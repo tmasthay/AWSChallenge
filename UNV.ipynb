{
 "cells": [
  {
   "cell_type": "code",
   "execution_count": null,
   "id": "22d276cf",
   "metadata": {},
   "outputs": [],
   "source": []
  },
  {
   "cell_type": "code",
   "execution_count": null,
   "id": "e0b11d7e",
   "metadata": {},
   "outputs": [],
   "source": [
    "import pyuff\n",
    "import numpy as np\n",
    "unv_file = pyuff.UFF('unv_files/housing_40k.unv')"
   ]
  },
  {
   "cell_type": "code",
   "execution_count": null,
   "id": "aaf4fc6b",
   "metadata": {},
   "outputs": [],
   "source": [
    "unv_file.get_set_types()"
   ]
  },
  {
   "cell_type": "code",
   "execution_count": null,
   "id": "6d93f101",
   "metadata": {},
   "outputs": [],
   "source": [
    "data = unv_file.read_sets()"
   ]
  },
  {
   "cell_type": "code",
   "execution_count": null,
   "id": "36e7d667",
   "metadata": {},
   "outputs": [],
   "source": [
    "data"
   ]
  },
  {
   "cell_type": "code",
   "execution_count": null,
   "id": "51abefc6",
   "metadata": {},
   "outputs": [],
   "source": [
    "coord = data[2]"
   ]
  },
  {
   "cell_type": "code",
   "execution_count": null,
   "id": "b5602480",
   "metadata": {},
   "outputs": [],
   "source": [
    "coord"
   ]
  },
  {
   "cell_type": "code",
   "execution_count": null,
   "id": "dbfe480e",
   "metadata": {},
   "outputs": [],
   "source": [
    "coord.keys()"
   ]
  },
  {
   "cell_type": "code",
   "execution_count": null,
   "id": "1a51d72f",
   "metadata": {},
   "outputs": [],
   "source": [
    "x = coord['x']\n",
    "y = coord['y']\n",
    "z = coord['z']"
   ]
  },
  {
   "cell_type": "code",
   "execution_count": null,
   "id": "49411f53",
   "metadata": {},
   "outputs": [],
   "source": [
    "z.shape"
   ]
  },
  {
   "cell_type": "code",
   "execution_count": null,
   "id": "2616ecfe",
   "metadata": {},
   "outputs": [],
   "source": [
    "Value = data[4]"
   ]
  },
  {
   "cell_type": "code",
   "execution_count": null,
   "id": "58133177",
   "metadata": {},
   "outputs": [],
   "source": [
    "val = Value['data_at_node']"
   ]
  },
  {
   "cell_type": "code",
   "execution_count": null,
   "id": "5af4e649",
   "metadata": {},
   "outputs": [],
   "source": [
    "heat = np.array(val)"
   ]
  },
  {
   "cell_type": "code",
   "execution_count": null,
   "id": "dba9c84b",
   "metadata": {},
   "outputs": [],
   "source": [
    "heat.shape"
   ]
  },
  {
   "cell_type": "code",
   "execution_count": null,
   "id": "d065d0f5",
   "metadata": {},
   "outputs": [],
   "source": [
    "x = x.reshape(-1, 1)\n",
    "y = y.reshape(-1, 1)\n",
    "z = z.reshape(-1, 1)"
   ]
  },
  {
   "cell_type": "code",
   "execution_count": null,
   "id": "dbba8022",
   "metadata": {},
   "outputs": [],
   "source": [
    "from sklearn.decomposition import PCA\n",
    "from sklearn.manifold import TSNE\n",
    "\n",
    "data_motor = np.concatenate([x, y, z, heat], 1)\n",
    "\n",
    "data_motor.shape"
   ]
  },
  {
   "cell_type": "code",
   "execution_count": null,
   "id": "8bcb5e89",
   "metadata": {},
   "outputs": [],
   "source": [
    "import matplotlib.pyplot as plt\n",
    "\n",
    "plt.scatter(x, heat)"
   ]
  },
  {
   "cell_type": "code",
   "execution_count": null,
   "id": "3caf1962",
   "metadata": {},
   "outputs": [],
   "source": [
    "plt.scatter(x[::20], heat[::20])"
   ]
  },
  {
   "cell_type": "code",
   "execution_count": null,
   "id": "d4049bd5",
   "metadata": {},
   "outputs": [],
   "source": [
    "plt.scatter(y, heat)"
   ]
  },
  {
   "cell_type": "code",
   "execution_count": null,
   "id": "95933a2f",
   "metadata": {},
   "outputs": [],
   "source": [
    "plt.scatter(y[::20], heat[::20])"
   ]
  },
  {
   "cell_type": "code",
   "execution_count": null,
   "id": "7f9d3cb8",
   "metadata": {},
   "outputs": [],
   "source": [
    "plt.plot(z, heat)"
   ]
  },
  {
   "cell_type": "code",
   "execution_count": null,
   "id": "80b0e6c5",
   "metadata": {},
   "outputs": [],
   "source": [
    "plt.plot(z[::20], heat[::20])"
   ]
  },
  {
   "cell_type": "code",
   "execution_count": null,
   "id": "873e2257",
   "metadata": {},
   "outputs": [],
   "source": []
  },
  {
   "cell_type": "code",
   "execution_count": null,
   "id": "1fbffaf6",
   "metadata": {},
   "outputs": [],
   "source": [
    "# Subsample the data\n",
    "subsampled_data = data_motor[np.random.choice(data_motor.shape[0], size=1200, replace=False)]\n",
    "\n",
    "# Perform PCA to reduce the dimensionality of the data\n",
    "pca = PCA(n_components=3)\n",
    "pca_data = pca.fit_transform(subsampled_data)\n",
    "\n",
    "# Perform t-SNE to further reduce the dimensionality and preserve topology\n",
    "tsne = TSNE(n_components=2, perplexity=30)\n",
    "reduced_data = tsne.fit_transform(pca_data)"
   ]
  },
  {
   "cell_type": "code",
   "execution_count": null,
   "id": "38fe6bfe",
   "metadata": {},
   "outputs": [],
   "source": [
    "print(reduced_data)"
   ]
  },
  {
   "cell_type": "code",
   "execution_count": null,
   "id": "8dd95915",
   "metadata": {},
   "outputs": [],
   "source": [
    "import numpy as np\n",
    "from scipy.spatial import ConvexHull\n",
    "\n",
    "# Load your 4D dataset into Python\n",
    "#data = np.loadtxt('your_data_file.txt')\n",
    "\n",
    "# Compute the convex hull of the dataset\n",
    "hull = ConvexHull(data_motor)\n",
    "\n",
    "# Extract the vertices of the boundary facets\n",
    "boundary_points = np.unique(hull.vertices)\n",
    "\n",
    "# Print the boundary points\n",
    "print(\"Boundary points:\")\n",
    "for i in boundary_points:\n",
    "    print(data_motor[i])\n"
   ]
  }
 ],
 "metadata": {
  "kernelspec": {
   "display_name": "pyvista",
   "language": "python",
   "name": "python3"
  },
  "language_info": {
   "codemirror_mode": {
    "name": "ipython",
    "version": 3
   },
   "file_extension": ".py",
   "mimetype": "text/x-python",
   "name": "python",
   "nbconvert_exporter": "python",
   "pygments_lexer": "ipython3",
   "version": "3.11.0"
  },
  "vscode": {
   "interpreter": {
    "hash": "1213492c670d1d8851bac8f29475bfd6dac32d59bf6e29c60edbce027dbeec79"
   }
  }
 },
 "nbformat": 4,
 "nbformat_minor": 5
}
